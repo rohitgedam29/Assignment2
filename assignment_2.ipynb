{
 "cells": [
  {
   "cell_type": "code",
   "execution_count": null,
   "id": "33fd77d7",
   "metadata": {},
   "outputs": [],
   "source": [
    "Que.1 - What are the values of the Boolean datatype? How do you write them?\n",
    "\n",
    "Ans -  There are two Boolean values -\n",
    "        1. True\n",
    "        2. False\n",
    "        \n",
    "        A boolean datatype is declared with the 'bool' keyword"
   ]
  },
  {
   "cell_type": "code",
   "execution_count": 39,
   "id": "beb2a5e6",
   "metadata": {},
   "outputs": [
    {
     "data": {
      "text/plain": [
       "bool"
      ]
     },
     "execution_count": 39,
     "metadata": {},
     "output_type": "execute_result"
    }
   ],
   "source": [
    "a= True\n",
    "type(a) #it will show that the datatype of a is bool\n",
    "\n"
   ]
  },
  {
   "cell_type": "code",
   "execution_count": 38,
   "id": "da61f0f8",
   "metadata": {},
   "outputs": [
    {
     "data": {
      "text/plain": [
       "True"
      ]
     },
     "execution_count": 38,
     "metadata": {},
     "output_type": "execute_result"
    }
   ],
   "source": [
    " 10>9 #since the condition is correct so it will return True , had the condition been wrong it would have returned Flse"
   ]
  },
  {
   "cell_type": "code",
   "execution_count": null,
   "id": "b3ce5a71",
   "metadata": {},
   "outputs": [],
   "source": [
    "Que. 2 - What are the three different types of boolean operators?\n",
    "\n",
    "Ans -  Three different types of boolean operators are :-\n",
    "         \n",
    "          and #( returns True when both the conditions are correct)\n",
    "        \n",
    "          or  #( returns True when one of the 2 condition is correct )\n",
    "          \n",
    "          not    #( it inverts the Truth value of boolean expression)  \n",
    "\n",
    "        "
   ]
  },
  {
   "cell_type": "code",
   "execution_count": null,
   "id": "39c2fd04",
   "metadata": {},
   "outputs": [],
   "source": [
    "Que .3 - Make a list of each boolean operator's truth tables(i.e. every possible combination of Boolean values for the \n",
    "                   # operator and what it evaluate).\n",
    "    \n",
    "ANS -     1. or   \n",
    "\n",
    "           operator-A     operator-B      or result\n",
    "           \n",
    "            True           True            True\n",
    "            True           False           True\n",
    "            False          True            True\n",
    "            False          False           False\n",
    "            \n",
    "            \n",
    "          2. and\n",
    "          \n",
    "           operator-A     operator-B      and result\n",
    "           \n",
    "            True          True             True\n",
    "            True          False            False\n",
    "            False         True             False\n",
    "            False         False            False\n",
    "            \n",
    "         \n",
    "          3. not\n",
    "          \n",
    "           operator-A     not-A(Output)\n",
    "            \n",
    "             0             1\n",
    "             1             0"
   ]
  },
  {
   "cell_type": "code",
   "execution_count": null,
   "id": "9ee8ec79",
   "metadata": {},
   "outputs": [],
   "source": [
    "Que. 4  What are the Values of following expressions?\n",
    "        1. (5>4) and (3==5)\n",
    "        2. not(5>4)\n",
    "        3. (5>4) or (3==5)\n",
    "        4. not((5>4) or (3==5))\n",
    "        5. (True and True) and (True==False)\n",
    "        6.(not False) or (not True)\n",
    "        \n",
    "Ans -  Below-- \n"
   ]
  },
  {
   "cell_type": "code",
   "execution_count": 2,
   "id": "a8b258dd",
   "metadata": {},
   "outputs": [
    {
     "data": {
      "text/plain": [
       "False"
      ]
     },
     "execution_count": 2,
     "metadata": {},
     "output_type": "execute_result"
    }
   ],
   "source": [
    "(5>4) and(3==5)"
   ]
  },
  {
   "cell_type": "code",
   "execution_count": 4,
   "id": "2dc63409",
   "metadata": {},
   "outputs": [
    {
     "data": {
      "text/plain": [
       "False"
      ]
     },
     "execution_count": 4,
     "metadata": {},
     "output_type": "execute_result"
    }
   ],
   "source": [
    "not(5>4)"
   ]
  },
  {
   "cell_type": "code",
   "execution_count": 6,
   "id": "9eec61eb",
   "metadata": {},
   "outputs": [
    {
     "data": {
      "text/plain": [
       "True"
      ]
     },
     "execution_count": 6,
     "metadata": {},
     "output_type": "execute_result"
    }
   ],
   "source": [
    "(5>4) or (3==5)"
   ]
  },
  {
   "cell_type": "code",
   "execution_count": 8,
   "id": "70e5a0b3",
   "metadata": {},
   "outputs": [
    {
     "data": {
      "text/plain": [
       "False"
      ]
     },
     "execution_count": 8,
     "metadata": {},
     "output_type": "execute_result"
    }
   ],
   "source": [
    "not(5>4) or (3==5)"
   ]
  },
  {
   "cell_type": "code",
   "execution_count": 10,
   "id": "74db5bb2",
   "metadata": {},
   "outputs": [
    {
     "data": {
      "text/plain": [
       "False"
      ]
     },
     "execution_count": 10,
     "metadata": {},
     "output_type": "execute_result"
    }
   ],
   "source": [
    "(True and True) and (True==False)"
   ]
  },
  {
   "cell_type": "code",
   "execution_count": 12,
   "id": "1f8ebb7e",
   "metadata": {},
   "outputs": [
    {
     "data": {
      "text/plain": [
       "True"
      ]
     },
     "execution_count": 12,
     "metadata": {},
     "output_type": "execute_result"
    }
   ],
   "source": [
    "(not False) or (not True)"
   ]
  },
  {
   "cell_type": "code",
   "execution_count": null,
   "id": "9a339577",
   "metadata": {},
   "outputs": [],
   "source": []
  },
  {
   "cell_type": "code",
   "execution_count": null,
   "id": "28658173",
   "metadata": {},
   "outputs": [],
   "source": [
    "Que.5  What are the six comparison operators?\n",
    "\n",
    "Ans - six comparison operators are:-\n",
    "    \n",
    "    1.  <   (less than)\n",
    "    2.  >   (greater than)\n",
    "    3.  ==  (equal to)\n",
    "    4.  <=  (less than or equal to)\n",
    "    5.  >=  (greater than or equal to)\n",
    "    6.  !=  (not equal to)"
   ]
  },
  {
   "cell_type": "code",
   "execution_count": null,
   "id": "f0e1ee7e",
   "metadata": {},
   "outputs": [],
   "source": [
    "Que.6  How do you tell the difference between the equal to and assignment operators? Describe a condition and when \n",
    "       you would use one.\n",
    "\n",
    "Ans -  Equal to (==) is a comparison operator and it checks whether the two given operands are equal or not .\n",
    "       if the condition  is correct it will return True\n",
    "       else it will give False as the output.\n",
    "        \n",
    "       Assignment operator (=) is used to assign the value  to the variable.\n",
    "       example - a= 10\n",
    "                \n",
    "                 \n",
    "       If we have to assign any value to variable a \n",
    "       we will use a = 10\n",
    "       while if we have to compare the value of variable a we will write it as. a==10\n",
    "                 "
   ]
  },
  {
   "cell_type": "code",
   "execution_count": null,
   "id": "464f4597",
   "metadata": {},
   "outputs": [],
   "source": [
    "Que.7 Identify the three blocks in this code:\n",
    "\n",
    "spam = 0\n",
    "if spam ==10:\n",
    "    print('eggs')\n",
    "       if spam >5:\n",
    "            print('bacon')\n",
    "       else:\n",
    "       print('ham')\n",
    "       print('spam')\n",
    "       print('spam')\n",
    "       \n",
    "Ans - Three blocks in this code \n",
    "\n",
    "   1. if statement in line 6 everything inside this is a block\n",
    "      indent error\n",
    "      \n",
    "   2.  print('bacon') in line 7\n",
    "   \n",
    "   3. print('ham')\n",
    "      \n",
    "       \n",
    "    \n",
    "    "
   ]
  },
  {
   "cell_type": "code",
   "execution_count": null,
   "id": "d71c653e",
   "metadata": {},
   "outputs": [],
   "source": [
    "Que.8   Write code that prints Hello if 1 is stored in spam, prints Howdy if 2 is stored in spam and prints Greetings!\n",
    "        if  anyting else is stored in spam.\n",
    "Ans - "
   ]
  },
  {
   "cell_type": "code",
   "execution_count": 17,
   "id": "06e211b0",
   "metadata": {},
   "outputs": [
    {
     "name": "stdout",
     "output_type": "stream",
     "text": [
      "enter the value to be stored in spam - 1\n",
      "Hello\n"
     ]
    }
   ],
   "source": [
    "spam = int(input(\"enter the value to be stored in spam - \"))\n",
    "\n",
    "if spam ==1:\n",
    "    print(\"Hello\")\n",
    "    \n",
    "elif spam == 2:\n",
    "    print(\"Howdy\")\n",
    "\n",
    "else:\n",
    "    print(\"Greetings!\")"
   ]
  },
  {
   "cell_type": "code",
   "execution_count": null,
   "id": "ab96a92b",
   "metadata": {},
   "outputs": [],
   "source": [
    "Que. 9 If your Programme is stuck in an endless loop, what keys you will press?\n",
    "\n",
    "Ans -  To come out of the endless loop we can press -\n",
    "\n",
    "       CTRL + C\n",
    "      \n"
   ]
  },
  {
   "cell_type": "code",
   "execution_count": null,
   "id": "cc7c2dc2",
   "metadata": {},
   "outputs": [],
   "source": [
    "Que.10  How do you tell the difference between break and continue?\n",
    "\n",
    "Ans -  break , terminates the execution of the current loop and passes the control over the next loop or main body.\n",
    "       while, continue , skips the current iteration and  executes the very next iteration in the loop."
   ]
  },
  {
   "cell_type": "code",
   "execution_count": 20,
   "id": "4c308f19",
   "metadata": {},
   "outputs": [
    {
     "name": "stdout",
     "output_type": "stream",
     "text": [
      "1\n",
      "2\n",
      "3\n",
      "4\n"
     ]
    }
   ],
   "source": [
    "l = [1,2,3,4,5,6,7,8,9,10]\n",
    "for i in l:\n",
    "    if i == 5:\n",
    "        break\n",
    "    print(i)    \n",
    "    "
   ]
  },
  {
   "cell_type": "code",
   "execution_count": 22,
   "id": "0eac75af",
   "metadata": {},
   "outputs": [
    {
     "name": "stdout",
     "output_type": "stream",
     "text": [
      "1\n",
      "2\n",
      "3\n",
      "4\n",
      "6\n",
      "7\n",
      "8\n",
      "9\n",
      "10\n"
     ]
    }
   ],
   "source": [
    "for i in l:\n",
    "    if i ==5:\n",
    "        continue\n",
    "    print(i)    "
   ]
  },
  {
   "cell_type": "code",
   "execution_count": null,
   "id": "97ba6492",
   "metadata": {},
   "outputs": [],
   "source": [
    "Que. 11 - In a for loop[ what is the differene between range(10) , range(0,10) , range(0,10,1)?\n",
    "\n",
    "Ans - range(10) gives numbers from 0 to 9\n",
    "      \n",
    "      range(0,10) gives numbers from 0 to 9 , here 0 is a starting point and 10 is the end point range will be 0 to 9\n",
    "      \n",
    "      range(0,10,1) 0 is the starting point ,10 is the end point and 1 is step size. If we take 2 as step size it will give\n",
    "      every alternate number.\n",
    "      AS shown below"
   ]
  },
  {
   "cell_type": "code",
   "execution_count": 26,
   "id": "81f91624",
   "metadata": {},
   "outputs": [
    {
     "name": "stdout",
     "output_type": "stream",
     "text": [
      "0\n",
      "1\n",
      "2\n",
      "3\n",
      "4\n",
      "5\n",
      "6\n",
      "7\n",
      "8\n",
      "9\n"
     ]
    }
   ],
   "source": [
    "for i in range(10):\n",
    "    print(i)"
   ]
  },
  {
   "cell_type": "code",
   "execution_count": 27,
   "id": "c8acc0c0",
   "metadata": {},
   "outputs": [
    {
     "name": "stdout",
     "output_type": "stream",
     "text": [
      "0\n",
      "1\n",
      "2\n",
      "3\n",
      "4\n",
      "5\n",
      "6\n",
      "7\n",
      "8\n",
      "9\n"
     ]
    }
   ],
   "source": [
    "for i in range(0,10):\n",
    "    print(i)"
   ]
  },
  {
   "cell_type": "code",
   "execution_count": 32,
   "id": "a8ca9403",
   "metadata": {},
   "outputs": [
    {
     "name": "stdout",
     "output_type": "stream",
     "text": [
      "0\n",
      "2\n",
      "4\n",
      "6\n",
      "8\n"
     ]
    }
   ],
   "source": [
    "for i in range(0,10,2):\n",
    "    print(i)"
   ]
  },
  {
   "cell_type": "code",
   "execution_count": null,
   "id": "ff2d3816",
   "metadata": {},
   "outputs": [],
   "source": [
    "Que.12   Write a program that prints the numbers 1 to 10 using forloop .Then write an equivalent program that prints\n",
    "         the numbers 1 to 10 using while loop?  "
   ]
  },
  {
   "cell_type": "code",
   "execution_count": 34,
   "id": "60c92eda",
   "metadata": {},
   "outputs": [
    {
     "name": "stdout",
     "output_type": "stream",
     "text": [
      "1\n",
      "2\n",
      "3\n",
      "4\n",
      "5\n",
      "6\n",
      "7\n",
      "8\n",
      "9\n",
      "10\n"
     ]
    }
   ],
   "source": [
    "for i in range(1,11):\n",
    "    print(i)"
   ]
  },
  {
   "cell_type": "code",
   "execution_count": 36,
   "id": "d5c858f1",
   "metadata": {},
   "outputs": [
    {
     "name": "stdout",
     "output_type": "stream",
     "text": [
      "1\n",
      "2\n",
      "3\n",
      "4\n",
      "5\n",
      "6\n",
      "7\n",
      "8\n",
      "9\n",
      "10\n"
     ]
    }
   ],
   "source": [
    "i = 1\n",
    "while(i<=10):\n",
    "    print(i)\n",
    "    i= i+1"
   ]
  },
  {
   "cell_type": "code",
   "execution_count": null,
   "id": "517cd2bb",
   "metadata": {},
   "outputs": [],
   "source": [
    "Que. 13 If you had a function named bacon() inside a module named spam, how would you call it after importing spam?\n",
    "\n",
    "Ans. - spam.bacon()\n",
    "\n",
    "       this is how we can call it."
   ]
  },
  {
   "cell_type": "code",
   "execution_count": null,
   "id": "740e9798",
   "metadata": {},
   "outputs": [],
   "source": []
  },
  {
   "cell_type": "code",
   "execution_count": null,
   "id": "27e89029",
   "metadata": {},
   "outputs": [],
   "source": []
  }
 ],
 "metadata": {
  "kernelspec": {
   "display_name": "Python 3 (ipykernel)",
   "language": "python",
   "name": "python3"
  },
  "language_info": {
   "codemirror_mode": {
    "name": "ipython",
    "version": 3
   },
   "file_extension": ".py",
   "mimetype": "text/x-python",
   "name": "python",
   "nbconvert_exporter": "python",
   "pygments_lexer": "ipython3",
   "version": "3.9.7"
  }
 },
 "nbformat": 4,
 "nbformat_minor": 5
}
